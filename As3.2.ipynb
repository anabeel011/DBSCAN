{
 "cells": [
  {
   "cell_type": "code",
   "execution_count": 53,
   "metadata": {},
   "outputs": [],
   "source": [
    "import numpy as np \n",
    "import pandas as pd \n",
    "import matplotlib.pyplot as plt \n",
    "from matplotlib import gridspec \n",
    "from sklearn.cluster import OPTICS, cluster_optics_dbscan \n",
    "from sklearn.preprocessing import normalize, StandardScaler "
   ]
  },
  {
   "cell_type": "code",
   "execution_count": 54,
   "metadata": {},
   "outputs": [
    {
     "name": "stdout",
     "output_type": "stream",
     "text": [
      "       X     Y\n",
      "0    1.0   1.0\n",
      "1    0.0   1.0\n",
      "2    1.0   0.0\n",
      "3   11.0  12.0\n",
      "4   11.0  13.0\n",
      "5   13.0  13.0\n",
      "6   12.0   8.5\n",
      "7   13.0   8.0\n",
      "8   13.0   9.0\n",
      "9   13.0   7.0\n",
      "10  11.0   7.0\n",
      "11   8.0   2.0\n",
      "12   9.0   2.0\n",
      "13  10.0   1.0\n",
      "14   7.0  13.0\n",
      "15   5.0   9.0\n",
      "16  16.0  16.0\n",
      "17  11.5   8.0\n",
      "18  13.0  10.0\n",
      "19  12.0  13.0\n",
      "20  14.0  12.5\n",
      "21  14.5  11.5\n",
      "22  15.0  10.5\n",
      "23  15.0   9.5\n",
      "24  12.0   9.5\n",
      "25  10.5  11.0\n",
      "26  10.0  10.5\n",
      "27   9.0   3.0\n",
      "28   9.0   4.0\n",
      "29   9.0   5.0\n"
     ]
    }
   ],
   "source": [
    "data = pd.read_excel('3_Q2_Dataset.xlsx')\n",
    "#data.head()\n",
    "data = data.drop('Instance', axis=1)\n",
    "print(data)"
   ]
  },
  {
   "cell_type": "code",
   "execution_count": 55,
   "metadata": {},
   "outputs": [
    {
     "data": {
      "text/plain": [
       "OPTICS(max_eps=2.0, min_samples=2)"
      ]
     },
     "execution_count": 55,
     "metadata": {},
     "output_type": "execute_result"
    }
   ],
   "source": [
    "optics_model = OPTICS(min_samples = 2, p=2, max_eps = 2.0) \n",
    "  \n",
    "# Training the model \n",
    "optics_model.fit(data) "
   ]
  },
  {
   "cell_type": "code",
   "execution_count": 56,
   "metadata": {},
   "outputs": [
    {
     "name": "stdout",
     "output_type": "stream",
     "text": [
      "[ 0  1  2  3  4 19  5 20 21 22 23 25 26  6 17 24  7  8  9 18 10 11 12 27\n",
      " 28 29 13 14 15 16]\n",
      "       Instance     X     Y         0\n",
      "0    Instance 1   1.0   1.0       inf\n",
      "1    Instance 2   0.0   1.0  1.000000\n",
      "2    Instance 3   1.0   0.0  1.000000\n",
      "3    Instance 4  11.0  12.0       inf\n",
      "4    Instance 5  11.0  13.0  1.000000\n",
      "5    Instance 6  13.0  13.0  1.000000\n",
      "6    Instance 7  12.0   8.5       inf\n",
      "7    Instance 8  13.0   8.0  1.118034\n",
      "8    Instance 9  13.0   9.0  1.000000\n",
      "9   Instance 10  13.0   7.0  1.000000\n",
      "10  Instance 11  11.0   7.0  1.118034\n",
      "11  Instance 12   8.0   2.0       inf\n",
      "12  Instance 13   9.0   2.0  1.000000\n",
      "13  Instance 14  10.0   1.0  1.414214\n",
      "14  Instance 15   7.0  13.0       inf\n",
      "15  Instance 16   5.0   9.0       inf\n",
      "16  Instance 17  16.0  16.0       inf\n",
      "17  Instance 18  11.5   8.0  0.707107\n",
      "18  Instance 19  13.0  10.0  1.000000\n",
      "19  Instance 20  12.0  13.0  1.000000\n",
      "20  Instance 21  14.0  12.5  1.118034\n",
      "21  Instance 22  14.5  11.5  1.118034\n",
      "22  Instance 23  15.0  10.5  1.118034\n",
      "23  Instance 24  15.0   9.5  1.000000\n",
      "24  Instance 25  12.0   9.5  1.000000\n",
      "25  Instance 26  10.5  11.0  1.118034\n",
      "26  Instance 27  10.0  10.5  0.707107\n",
      "27  Instance 28   9.0   3.0  1.000000\n",
      "28  Instance 29   9.0   4.0  1.000000\n",
      "29  Instance 30   9.0   5.0  1.000000\n"
     ]
    }
   ],
   "source": [
    "# below function extracts labels\n",
    "labels1 = cluster_optics_dbscan(reachability = optics_model.reachability_, \n",
    "                                   core_distances = optics_model.core_distances_, \n",
    "                                   ordering = optics_model.ordering_, eps = 1.2) \n",
    "\n",
    "core_distances = optics_model.core_distances_\n",
    "reachability = optics_model.reachability_#[optics_model.ordering_]\n",
    "ordering = optics_model.ordering_\n",
    "data2 = pd.read_excel('3_Q2_Dataset.xlsx')\n",
    "r1 = pd.DataFrame(reachability)\n",
    "data2=pd.concat([data2, r1], axis=1)\n",
    "\n",
    "print(ordering)\n",
    "print(data2)"
   ]
  },
  {
   "cell_type": "code",
   "execution_count": 57,
   "metadata": {},
   "outputs": [],
   "source": [
    "space = np.arange(len(data))"
   ]
  },
  {
   "cell_type": "code",
   "execution_count": 58,
   "metadata": {},
   "outputs": [
    {
     "data": {
      "text/plain": [
       "Text(0.5, 1.0, 'DBSCAN clustering with eps = 1.2')"
      ]
     },
     "execution_count": 58,
     "metadata": {},
     "output_type": "execute_result"
    },
    {
     "data": {
      "image/png": "[encoded data removed]",
      "text/plain": [
       "<Figure size 720x504 with 3 Axes>"
      ]
     },
     "metadata": {
      "needs_background": "light"
     },
     "output_type": "display_data"
    }
   ],
   "source": [
    "plt.figure(figsize =(10, 7)) \n",
    "G = gridspec.GridSpec(2, 2) \n",
    "ax1 = plt.subplot(G[0, :]) \n",
    "ax2 = plt.subplot(G[1, 0]) \n",
    "ax3 = plt.subplot(G[1, 1]) \n",
    "colors = ['c.', 'b.', 'r.', 'y.', 'g.'] \n",
    "for Class, colour in zip(range(0, 5), colors): \n",
    "    Xk = space[labels == Class] \n",
    "    Rk = reachability[labels == Class] \n",
    "    ax1.plot(Xk, Rk, colour, alpha = 0.3) \n",
    "ax1.plot(space[labels == -1], reachability[labels == -1], 'k.', alpha = 0.3) \n",
    "ax1.plot(space, np.full_like(space, 2., dtype = float), 'k-', alpha = 0.5) \n",
    "ax1.plot(space, np.full_like(space, 0.5, dtype = float), 'k-.', alpha = 0.5) \n",
    "ax1.set_ylabel('Reachability Distance') \n",
    "ax1.set_title('Reachability Plot') \n",
    "\n",
    "# Plotting the OPTICS Clustering \n",
    "colors = ['c.', 'b.', 'r.', 'y.', 'g.'] \n",
    "for Class, colour in zip(range(0, 5), colors): \n",
    "    Xk = data[optics_model.labels_ == Class] \n",
    "    ax2.plot(Xk.iloc[:, 0], Xk.iloc[:, 1], colour, alpha = 0.3) \n",
    "      \n",
    "ax2.plot(data.iloc[optics_model.labels_ == -1, 0], \n",
    "        data.iloc[optics_model.labels_ == -1, 1], \n",
    "       'k+', alpha = 0.1) \n",
    "ax2.set_title('OPTICS Clustering with max_eps = 2') \n",
    "  \n",
    "# Plotting the DBSCAN Clustering with eps = 0.5 \n",
    "colors = ['c', 'b', 'r', 'y', 'g', 'greenyellow'] \n",
    "for Class, colour in zip(range(0, 6), colors): \n",
    "    Xk = data[labels1 == Class] \n",
    "    ax3.plot(Xk.iloc[:, 0], Xk.iloc[:, 1], colour, alpha = 0.3, marker ='.')\n",
    "\n",
    "ax3.plot(data.iloc[labels1 == -1, 0], \n",
    "        data.iloc[labels1 == -1, 1], \n",
    "       'k+', alpha = 0.1) \n",
    "ax3.set_title('DBSCAN clustering with eps = 1.2')"
   ]
  },
  {
   "cell_type": "code",
   "execution_count": null,
   "metadata": {},
   "outputs": [],
   "source": []
  }
 ],
 "metadata": {
  "kernelspec": {
   "display_name": "Python 3",
   "language": "python",
   "name": "python3"
  },
  "language_info": {
   "codemirror_mode": {
    "name": "ipython",
    "version": 3
   },
   "file_extension": ".py",
   "mimetype": "text/x-python",
   "name": "python",
   "nbconvert_exporter": "python",
   "pygments_lexer": "ipython3",
   "version": "3.8.5"
  }
 },
 "nbformat": 4,
 "nbformat_minor": 4
}
